{
 "cells": [
  {
   "cell_type": "markdown",
   "metadata": {},
   "source": [
    "# Kuiper Belt Object Classification\n",
    "This Jupyter notebook is a complement to Smullen & Volk (2020). Please cite that paper if you use this notebook or any products in this repository.\n",
    "\n",
    "Using short numerical simulations of observed Kuiper Belt Objects (KBOs), we have trained a Gradient Boosting Classifier to sort KBOs into four populations:\n",
    "- Resonant: KBOs under the direct dynamical influence of Neptune\n",
    "- Classical: Primordial KBOs from the formation of the Solar System\n",
    "- Detached: Stable objects outside the classicals\n",
    "- Scattering: KBOs with active orbital evolution"
   ]
  },
  {
   "cell_type": "markdown",
   "metadata": {},
   "source": [
    "## Training the Classifier"
   ]
  },
  {
   "cell_type": "markdown",
   "metadata": {},
   "source": [
    "This notebook requires at minimum, Numpy, Pandas, and scikit-learn. To use the expanded functionality of running simulations, this notebook also requires the N-body integration package [Rebound](https://rebound.readthedocs.io/en/latest/)."
   ]
  },
  {
   "cell_type": "code",
   "execution_count": 1,
   "metadata": {},
   "outputs": [],
   "source": [
    "import numpy as np\n",
    "import pandas as pd\n",
    "\n",
    "from sklearn.metrics import accuracy_score\n",
    "from sklearn.model_selection import train_test_split\n",
    "\n",
    "from sklearn.ensemble import GradientBoostingClassifier\n",
    "\n",
    "%run simulate_and_parse_backend.ipynb"
   ]
  },
  {
   "cell_type": "markdown",
   "metadata": {},
   "source": [
    "Load the file that contains the features for the 2305 KBOs used in Smullen & Volk (2020)."
   ]
  },
  {
   "cell_type": "code",
   "execution_count": 2,
   "metadata": {},
   "outputs": [
    {
     "name": "stdout",
     "output_type": "stream",
     "text": [
      "Index(['MPC ID', 'Securely Classified', 'Class', 'a_i', 'a_f', 'a_min',\n",
      "       'a_mean', 'a_max', 'a_sigma', 'a_delta', 'adot_min', 'adot_mean',\n",
      "       'adot_max', 'adot_delta', 'e_i', 'e_f', 'e_min', 'e_mean', 'e_max',\n",
      "       'e_sigma', 'e_delta', 'edot_min', 'edot_mean', 'edot_max', 'edot_delta',\n",
      "       'i_i', 'i_f', 'i_min', 'i_mean', 'i_max', 'i_sigma', 'i_delta',\n",
      "       'idot_min', 'idot_mean', 'idot_max', 'idot_delta', 'Om_i', 'Om_f',\n",
      "       'Om_min', 'Om_mean', 'Om_max', 'Om_sigma', 'Om_delta', 'Omdot_min',\n",
      "       'Omdot_mean', 'Omdot_max', 'Omdot_delta', 'o_i', 'o_f', 'o_min',\n",
      "       'o_mean', 'o_max', 'o_sigma', 'o_delta', 'odot_min', 'odot_mean',\n",
      "       'odot_max', 'odot_delta'],\n",
      "      dtype='object')\n"
     ]
    }
   ],
   "source": [
    "all_KBOs = pd.read_csv('KBO_features.csv', skipinitialspace=True)\n",
    "print(all_KBOs.columns)"
   ]
  },
  {
   "cell_type": "markdown",
   "metadata": {},
   "source": [
    "Take only the securely classified objects to minimize \"contamination\" of the classifier."
   ]
  },
  {
   "cell_type": "code",
   "execution_count": 3,
   "metadata": {
    "collapsed": true
   },
   "outputs": [],
   "source": [
    "secure_KBOs = all_KBOs[ all_KBOs['Securely Classified']==True ]"
   ]
  },
  {
   "cell_type": "markdown",
   "metadata": {},
   "source": [
    "Make array of labels for classifier (and some helpful dictionaries for later)."
   ]
  },
  {
   "cell_type": "code",
   "execution_count": 4,
   "metadata": {
    "collapsed": true
   },
   "outputs": [],
   "source": [
    "all_types = list( set(secure_KBOs['Class']) )\n",
    "types_dict = { all_types[i] : i for i in range( len(all_types) ) }\n",
    "int_dict = { i : all_types[i] for i in range( len(all_types) ) }\n",
    "classes = secure_KBOs['Class'].map(types_dict)"
   ]
  },
  {
   "cell_type": "markdown",
   "metadata": {},
   "source": [
    "Split the data into the training and testing sets. Pandas may throw a warning about views vs. copies; you can ignore it."
   ]
  },
  {
   "cell_type": "code",
   "execution_count": 5,
   "metadata": {},
   "outputs": [
    {
     "name": "stderr",
     "output_type": "stream",
     "text": [
      "/home/rachel/anaconda3/lib/python3.6/site-packages/pandas/core/frame.py:3997: SettingWithCopyWarning: \n",
      "A value is trying to be set on a copy of a slice from a DataFrame\n",
      "\n",
      "See the caveats in the documentation: https://pandas.pydata.org/pandas-docs/stable/user_guide/indexing.html#returning-a-view-versus-a-copy\n",
      "  errors=errors,\n"
     ]
    }
   ],
   "source": [
    "features_train, features_test, classes_train, classes_test = train_test_split(secure_KBOs, classes, test_size=0.3, random_state=30)\n",
    "\n",
    "ids_train = features_train['MPC ID'].to_numpy()\n",
    "features_train.drop(['MPC ID', 'Securely Classified', 'Class'], axis=1, inplace=True)\n",
    "features_train = features_train.to_numpy()\n",
    "\n",
    "ids_test = features_test['MPC ID'].to_numpy()\n",
    "features_test.drop(['MPC ID', 'Securely Classified', 'Class'], axis=1, inplace=True)\n",
    "features_test = features_test.to_numpy()"
   ]
  },
  {
   "cell_type": "markdown",
   "metadata": {},
   "source": [
    "Initialize and train the classifier using the trained hyperparameters from Smullen & Volk (2020)."
   ]
  },
  {
   "cell_type": "code",
   "execution_count": 6,
   "metadata": {},
   "outputs": [
    {
     "data": {
      "text/plain": [
       "GradientBoostingClassifier(ccp_alpha=0.0, criterion='friedman_mse', init=None,\n",
       "                           learning_rate=0.1, loss='deviance', max_depth=3,\n",
       "                           max_features='log2', max_leaf_nodes=None,\n",
       "                           min_impurity_decrease=0.0, min_impurity_split=None,\n",
       "                           min_samples_leaf=1, min_samples_split=2,\n",
       "                           min_weight_fraction_leaf=0.0, n_estimators=130,\n",
       "                           n_iter_no_change=None, presort='deprecated',\n",
       "                           random_state=30, subsample=1.0, tol=0.0001,\n",
       "                           validation_fraction=0.1, verbose=0,\n",
       "                           warm_start=False)"
      ]
     },
     "execution_count": 6,
     "metadata": {},
     "output_type": "execute_result"
    }
   ],
   "source": [
    "classifier = GradientBoostingClassifier( learning_rate=0.1, loss='deviance', max_depth=3, max_features='log2', n_estimators=130, random_state=30 )\n",
    "classifier.fit(features_train, classes_train)"
   ]
  },
  {
   "cell_type": "markdown",
   "metadata": {},
   "source": [
    "Test accuracy using the testing set of KBOs"
   ]
  },
  {
   "cell_type": "code",
   "execution_count": 7,
   "metadata": {},
   "outputs": [
    {
     "name": "stdout",
     "output_type": "stream",
     "text": [
      "Classifier is  98.70848708487084 % accurate on testing set\n"
     ]
    }
   ],
   "source": [
    "classes_predict = classifier.predict( features_test )\n",
    "print('Classifier is ', accuracy_score(classes_test, classes_predict) * 100, '% accurate on testing set' )"
   ]
  },
  {
   "cell_type": "markdown",
   "metadata": {},
   "source": [
    "## Helpful functions for using this classifier to investigate new KBOs\n",
    "All defaults are for the resonant KBO K04VD0X"
   ]
  },
  {
   "cell_type": "code",
   "execution_count": 8,
   "metadata": {
    "collapsed": true
   },
   "outputs": [],
   "source": [
    "def print_probs(probs, int_dict):\n",
    "    '''\n",
    "    Helper function for pretty output\n",
    "    '''\n",
    "    \n",
    "    print('This object has the following probabilities of class membership:')\n",
    "    p=probs[0]\n",
    "    for i,k in enumerate(list(int_dict.keys())):\n",
    "        print(int_dict[k],':',p[i]*100,'%')\n",
    "    return"
   ]
  },
  {
   "cell_type": "markdown",
   "metadata": {},
   "source": [
    "### Predicting class from file\n",
    "We provide the example output file `K04VD0X_bf.follow`. The filename is specified in the variable **`fname`**. The file must contain at minimum columns for time, semi-major axis, eccentricity, inclination, longitude of ascending node, and argument of pericenter. If the columns are not in this order, or if there are extra columns, the column indices for the required columns can be specified as a list passed to **`col_order`**.\n",
    "This function will only take the first 101 rows of the file. Each row is a simulation time output: 0, 1E3, 2E3, ... , 99E3, 100E3"
   ]
  },
  {
   "cell_type": "code",
   "execution_count": 9,
   "metadata": {},
   "outputs": [
    {
     "name": "stdout",
     "output_type": "stream",
     "text": [
      "Loaded K04VD0X_bf.follow\n",
      "\n",
      "This object has the following probabilities of class membership:\n",
      "Resonant : 99.69535402776498 %\n",
      "Scattering : 0.001500594460100934 %\n",
      "Detached : 0.0009724388201445254 %\n",
      "Classical : 0.3021729389547653 %\n"
     ]
    }
   ],
   "source": [
    "new_features = compute_from_file(fname='K04VD0X_bf.follow') # Load the data and compute features\n",
    "prediction = classifier.predict_proba(new_features) # Predict the probabilities of class membership for object\n",
    "print_probs(prediction, int_dict) # Pretty output"
   ]
  },
  {
   "cell_type": "markdown",
   "metadata": {},
   "source": [
    "### Simulating KBOs\n",
    "These simulations, made using Rebound, are run with the integrator `Mercurius` and an initial timestep of 0.1 years. Default values are for the object K04VD0X.  Rebound queries the [JPL Horizons database](https://ssd.jpl.nasa.gov/horizons.cgi) and therefore requires an internet connection.\n",
    "\n",
    "### Predicting class from orbital elements\n",
    "This runs an N-body simulation with Rebound of a KBO with a user-specified orbit. Required inputs are **`epoch`** in J2000 Julian Date and the six orbital elements (**a, ecc, inc, Omega, omega, and M**). Semi-major axis is in AU, and i, $\\Omega$, $\\omega$, and M are in degrees. The default input is orbital elements in heliocentric coordinates (the Horizons default), but the user can use barycentric orbital elements with _`barycentric=True`_."
   ]
  },
  {
   "cell_type": "code",
   "execution_count": 10,
   "metadata": {},
   "outputs": [
    {
     "name": "stdout",
     "output_type": "stream",
     "text": [
      "Searching NASA Horizons for 'Sun'... Found: Sun (10).\n",
      "Searching NASA Horizons for 'Jupiter'... Found: Jupiter Barycenter (5).\n",
      "Searching NASA Horizons for 'Saturn'... Found: Saturn Barycenter (6).\n",
      "Searching NASA Horizons for 'Uranus'... Found: Uranus Barycenter (7).\n",
      "Searching NASA Horizons for 'Neptune'... Found: Neptune Barycenter (8).\n",
      "---------------------------------\n",
      "REBOUND version:     \t3.12.1\n",
      "REBOUND built on:    \tMar 14 2020 16:43:01\n",
      "Number of particles: \t6\n",
      "Selected integrator: \tmercurius\n",
      "Simulation time:     \t1.0000000000000000e+05\n",
      "Current timestep:    \t0.100000\n",
      "---------------------------------\n",
      "<rebound.Particle object, m=1.0 x=-0.001962833101500212 y=0.007656781240012263 z=2.183275309101057e-05 vx=-0.0028796061033907056 vy=0.000237028114926568 vz=7.393244200386153e-05>\n",
      "<rebound.Particle object, m=0.0009547919152112404 x=-1.2585531676262454 y=-5.145873816680648 z=0.04714476975015494 vx=2.601659934084253 vy=-0.7180348559000759 vz=-0.05302404666678661>\n",
      "<rebound.Particle object, m=0.0002858856727222417 x=7.503547575836432 y=-6.713111210727221 z=-0.21818183049830997 vx=1.3539882201902362 vy=1.3654584970477095 vz=-0.0741682373727811>\n",
      "<rebound.Particle object, m=4.36624373583127e-05 x=12.224362025595719 y=15.216310406076719 z=-0.43947379221033056 vx=-1.0754830579656713 vy=0.912728070755838 vz=-0.005944009305805339>\n",
      "<rebound.Particle object, m=5.151383772628674e-05 x=9.42634687194281 y=-28.899834962062048 z=0.2856971809478693 vx=1.0761110626988117 vy=0.3558035649905616 vz=-0.035764071287153205>\n",
      "<rebound.Particle object, m=0.0 x=-32.71368985150237 y=-22.186099480665156 z=-0.008641026240832806 vx=0.7129973805606015 vy=-0.6924506579108655 vz=-0.09616596293704627>\n",
      "---------------------------------\n",
      "Relative Energy Error (ΔE/E0): 3.059332736049801e-08\n",
      "\n",
      "This object has the following probabilities of class membership:\n",
      "Resonant : 99.6424433959687 %\n",
      "Scattering : 0.0015596481849906995 %\n",
      "Detached : 0.0010107077436170807 %\n",
      "Classical : 0.3549862481027114 %\n"
     ]
    }
   ],
   "source": [
    "new_features = compute_from_aei() # Pass KBO orbit and epoch, run a simulation, and compute features\n",
    "prediction = classifier.predict_proba(new_features) # Predict the probabilities of class membership for object\n",
    "print_probs(prediction, int_dict) # Pretty output"
   ]
  },
  {
   "cell_type": "markdown",
   "metadata": {},
   "source": [
    "Next is an example for MU69 (Arrokoth) on today's\\* date. We can get today's JD from `datetime` and  `Astropy` or use _`epoch=0`_.\n",
    "\n",
    "\\*The orbital elements were pulled from Horizons on 15 April 2020. This may require updating in the future, or the classifier will be somewhat less certain."
   ]
  },
  {
   "cell_type": "code",
   "execution_count": 11,
   "metadata": {},
   "outputs": [
    {
     "name": "stdout",
     "output_type": "stream",
     "text": [
      "Today's JD is 2459005.1747879433\n",
      "Searching NASA Horizons for 'Sun'... Found: Sun (10).\n",
      "Searching NASA Horizons for 'Jupiter'... Found: Jupiter Barycenter (5).\n",
      "Searching NASA Horizons for 'Saturn'... Found: Saturn Barycenter (6).\n",
      "Searching NASA Horizons for 'Uranus'... Found: Uranus Barycenter (7).\n",
      "Searching NASA Horizons for 'Neptune'... Found: Neptune Barycenter (8).\n",
      "---------------------------------\n",
      "REBOUND version:     \t3.12.1\n",
      "REBOUND built on:    \tMar 14 2020 16:43:01\n",
      "Number of particles: \t6\n",
      "Selected integrator: \tmercurius\n",
      "Simulation time:     \t1.0000000000000000e+05\n",
      "Current timestep:    \t0.100000\n",
      "---------------------------------\n",
      "<rebound.Particle object, m=1.0 x=0.0026309747279397062 y=0.003831341491561525 z=-9.04085269499485e-05 vx=-0.0021252618395545936 vy=0.0011599397986174918 vz=2.9839075944340033e-05>\n",
      "<rebound.Particle object, m=0.0009547919152112404 x=-1.1999042655674643 y=-5.163350866720592 z=0.04600369408871379 vx=2.6099832527990907 vy=-0.6871629335701446 vz=-0.053386017719292404>\n",
      "<rebound.Particle object, m=0.0002858856727222417 x=-6.990249363854944 y=5.5154989073543765 z=0.2130245578479459 vx=-1.2701202638424172 vy=-1.7647113929494604 vz=0.0760024883625742>\n",
      "<rebound.Particle object, m=4.36624373583127e-05 x=-12.743147494467548 y=15.123683147326918 z=-0.15556126217674615 vx=-1.051668156745384 vy=-0.9115181093870467 vz=0.02993316473854862>\n",
      "<rebound.Particle object, m=5.151383772628674e-05 x=20.76127953519776 y=-22.10192178472506 z=-0.14799738736907717 vx=0.8211097036180193 vy=0.7854709076259444 vz=-0.03691270868171245>\n",
      "<rebound.Particle object, m=0.0 x=38.383350565465356 y=18.58143195479792 z=-1.5257960880164234 vx=-0.40382931555142276 vy=0.8965818547626199 vz=-0.028934922607011318>\n",
      "---------------------------------\n",
      "Relative Energy Error (ΔE/E0): 1.2731310867309898e-07\n",
      "\n",
      "This object has the following probabilities of class membership:\n",
      "Resonant : 0.013613079010124709 %\n",
      "Scattering : 0.0006847461859132688 %\n",
      "Detached : 0.0008409521941914224 %\n",
      "Classical : 99.9848612226098 %\n"
     ]
    }
   ],
   "source": [
    "from astropy.time import Time\n",
    "from datetime import datetime\n",
    "\n",
    "# datetime.now() returns today's date, and astropy.Time object converts to jd\n",
    "today = Time(datetime.now()).jd\n",
    "print(\"Today's JD is\", today)\n",
    "\n",
    "# Elements extracted 15 April 2020\n",
    "new_features = compute_from_aei(epoch=today, a=44.6694, ecc=0.05209, inc=2.4482, Omega=159.0966, omega=181.4084, M=311.9376) # Pass KBO orbit and epoch, run a simulation, and compute features\n",
    "prediction = classifier.predict_proba(new_features) # Predict the probabilities of class membership for object\n",
    "print_probs(prediction, int_dict) # Pretty output"
   ]
  },
  {
   "cell_type": "markdown",
   "metadata": {},
   "source": [
    "### Predicting class from Horizons identifier\n",
    "This runs an N-body simulation with Rebound of a KBO with a specified identifier **`objname`** in the JPL Horizons database and optional **`epoch`**; defaults to time at which simulation is run.  Rebound will return a warning that the mass is 0; you can ignore this."
   ]
  },
  {
   "cell_type": "code",
   "execution_count": 12,
   "metadata": {},
   "outputs": [
    {
     "name": "stdout",
     "output_type": "stream",
     "text": [
      "Searching NASA Horizons for 'Sun'... Found: Sun (10).\n",
      "Searching NASA Horizons for 'Jupiter'... Found: Jupiter Barycenter (5).\n",
      "Searching NASA Horizons for 'Saturn'... Found: Saturn Barycenter (6).\n",
      "Searching NASA Horizons for 'Uranus'... Found: Uranus Barycenter (7).\n",
      "Searching NASA Horizons for 'Neptune'... Found: Neptune Barycenter (8).\n",
      "Searching NASA Horizons for 'NAME=K04VD0X'... Found: (2004 VX130).\n"
     ]
    },
    {
     "name": "stderr",
     "output_type": "stream",
     "text": [
      "/home/rachel/anaconda3/lib/python3.6/site-packages/rebound/horizons.py:140: RuntimeWarning: Warning: Mass cannot be retrieved from NASA HORIZONS. Set to 0.\n",
      "  warnings.warn(\"Warning: Mass cannot be retrieved from NASA HORIZONS. Set to 0.\", RuntimeWarning)\n"
     ]
    },
    {
     "name": "stdout",
     "output_type": "stream",
     "text": [
      "---------------------------------\n",
      "REBOUND version:     \t3.12.1\n",
      "REBOUND built on:    \tMar 14 2020 16:43:01\n",
      "Number of particles: \t6\n",
      "Selected integrator: \tmercurius\n",
      "Simulation time:     \t1.0000000000000000e+05\n",
      "Current timestep:    \t0.100000\n",
      "---------------------------------\n",
      "<rebound.Particle object, m=1.0 x=-0.001962833101500212 y=0.007656781240012263 z=2.183275309101057e-05 vx=-0.0028796061033907056 vy=0.000237028114926568 vz=7.393244200386153e-05>\n",
      "<rebound.Particle object, m=0.0009547919152112404 x=-1.2585531676262454 y=-5.145873816680648 z=0.04714476975015494 vx=2.601659934084253 vy=-0.7180348559000759 vz=-0.05302404666678661>\n",
      "<rebound.Particle object, m=0.0002858856727222417 x=7.503547575836432 y=-6.713111210727221 z=-0.21818183049830997 vx=1.3539882201902362 vy=1.3654584970477095 vz=-0.0741682373727811>\n",
      "<rebound.Particle object, m=4.36624373583127e-05 x=12.224362025595719 y=15.216310406076719 z=-0.43947379221033056 vx=-1.0754830579656713 vy=0.912728070755838 vz=-0.005944009305805339>\n",
      "<rebound.Particle object, m=5.151383772628674e-05 x=9.42634687194281 y=-28.899834962062048 z=0.2856971809478693 vx=1.0761110626988117 vy=0.3558035649905616 vz=-0.035764071287153205>\n",
      "<rebound.Particle object, m=0.0 x=-29.3672887464453 y=-25.084232948918594 z=-0.43678040786178923 vx=0.8026475265956454 vy=-0.6240531537519733 vz=-0.09529537731991244>\n",
      "---------------------------------\n",
      "Relative Energy Error (ΔE/E0): 3.059332736049801e-08\n",
      "\n",
      "This object has the following probabilities of class membership:\n",
      "Resonant : 99.99509226679403 %\n",
      "Scattering : 0.00036734135234740443 %\n",
      "Detached : 0.00023792499495541215 %\n",
      "Classical : 0.004302466858696367 %\n"
     ]
    }
   ],
   "source": [
    "new_features=compute_from_jpl() # Pass KBO identifier and epoch, run a simulation, and compute features\n",
    "prediction = classifier.predict_proba(new_features) # Predict the probabilities of class membership for object\n",
    "print_probs(prediction, int_dict) # Pretty output"
   ]
  },
  {
   "cell_type": "markdown",
   "metadata": {},
   "source": [
    "Here's an example for the classical KBO K13EF4J."
   ]
  },
  {
   "cell_type": "code",
   "execution_count": 13,
   "metadata": {},
   "outputs": [
    {
     "name": "stdout",
     "output_type": "stream",
     "text": [
      "Searching NASA Horizons for 'Sun'... Found: Sun (10).\n",
      "Searching NASA Horizons for 'Jupiter'... Found: Jupiter Barycenter (5).\n",
      "Searching NASA Horizons for 'Saturn'... Found: Saturn Barycenter (6).\n",
      "Searching NASA Horizons for 'Uranus'... Found: Uranus Barycenter (7).\n",
      "Searching NASA Horizons for 'Neptune'... Found: Neptune Barycenter (8).\n",
      "Searching NASA Horizons for 'NAME=K13EF4J'... Found: (2013 EJ154).\n"
     ]
    },
    {
     "name": "stderr",
     "output_type": "stream",
     "text": [
      "/home/rachel/anaconda3/lib/python3.6/site-packages/rebound/horizons.py:140: RuntimeWarning: Warning: Mass cannot be retrieved from NASA HORIZONS. Set to 0.\n",
      "  warnings.warn(\"Warning: Mass cannot be retrieved from NASA HORIZONS. Set to 0.\", RuntimeWarning)\n"
     ]
    },
    {
     "name": "stdout",
     "output_type": "stream",
     "text": [
      "---------------------------------\n",
      "REBOUND version:     \t3.12.1\n",
      "REBOUND built on:    \tMar 14 2020 16:43:01\n",
      "Number of particles: \t6\n",
      "Selected integrator: \tmercurius\n",
      "Simulation time:     \t1.0000000000000000e+05\n",
      "Current timestep:    \t0.100000\n",
      "---------------------------------\n",
      "<rebound.Particle object, m=1.0 x=-0.001962833101500212 y=0.007656781240012263 z=2.183275309101057e-05 vx=-0.0028796061033907056 vy=0.000237028114926568 vz=7.393244200386153e-05>\n",
      "<rebound.Particle object, m=0.0009547919152112404 x=-1.2585531676262454 y=-5.145873816680648 z=0.04714476975015494 vx=2.601659934084253 vy=-0.7180348559000759 vz=-0.05302404666678661>\n",
      "<rebound.Particle object, m=0.0002858856727222417 x=7.503547575836432 y=-6.713111210727221 z=-0.21818183049830997 vx=1.3539882201902362 vy=1.3654584970477095 vz=-0.0741682373727811>\n",
      "<rebound.Particle object, m=4.36624373583127e-05 x=12.224362025595719 y=15.216310406076719 z=-0.43947379221033056 vx=-1.0754830579656713 vy=0.912728070755838 vz=-0.005944009305805339>\n",
      "<rebound.Particle object, m=5.151383772628674e-05 x=9.42634687194281 y=-28.899834962062048 z=0.2856971809478693 vx=1.0761110626988117 vy=0.3558035649905616 vz=-0.035764071287153205>\n",
      "<rebound.Particle object, m=0.0 x=13.151375804165754 y=37.33342559530034 z=3.1900118843464944 vx=-0.9466743235755924 vy=0.4160647603519451 vz=-0.15314992829978558>\n",
      "---------------------------------\n",
      "Relative Energy Error (ΔE/E0): 3.059332736049801e-08\n",
      "\n",
      "This object has the following probabilities of class membership:\n",
      "Resonant : 0.41767960793035375 %\n",
      "Scattering : 0.003605796884464104 %\n",
      "Detached : 0.00388367079048032 %\n",
      "Classical : 99.5748309243947 %\n"
     ]
    }
   ],
   "source": [
    "new_features=compute_from_jpl(objname='K13EF4J') # Pass KBO identifier and epoch, run a simulation, and compute features\n",
    "prediction = classifier.predict_proba(new_features) # Predict the probabilities of class membership for object\n",
    "print_probs(prediction, int_dict) # Pretty output"
   ]
  },
  {
   "cell_type": "markdown",
   "metadata": {},
   "source": [
    "### Saving simulation output\n",
    "In both of the functions `compute_from_jpl` and in `compute_from_aei`, you can save the orbital elements of Neptune and the KBO to a file by specifying the file name in the variable `savename`.  This can then be used, for instance, in the [KBO plotting notebook](KBO Plotting.ipynb)."
   ]
  },
  {
   "cell_type": "code",
   "execution_count": 14,
   "metadata": {},
   "outputs": [
    {
     "name": "stdout",
     "output_type": "stream",
     "text": [
      "Searching NASA Horizons for 'Sun'... Found: Sun (10).\n",
      "Searching NASA Horizons for 'Jupiter'... Found: Jupiter Barycenter (5).\n",
      "Searching NASA Horizons for 'Saturn'... Found: Saturn Barycenter (6).\n",
      "Searching NASA Horizons for 'Uranus'... Found: Uranus Barycenter (7).\n",
      "Searching NASA Horizons for 'Neptune'... Found: Neptune Barycenter (8).\n",
      "Searching NASA Horizons for 'NAME=K13EF4J'... Found: (2013 EJ154).\n"
     ]
    },
    {
     "name": "stderr",
     "output_type": "stream",
     "text": [
      "/home/rachel/anaconda3/lib/python3.6/site-packages/rebound/horizons.py:140: RuntimeWarning: Warning: Mass cannot be retrieved from NASA HORIZONS. Set to 0.\n",
      "  warnings.warn(\"Warning: Mass cannot be retrieved from NASA HORIZONS. Set to 0.\", RuntimeWarning)\n"
     ]
    },
    {
     "name": "stdout",
     "output_type": "stream",
     "text": [
      "---------------------------------\n",
      "REBOUND version:     \t3.12.1\n",
      "REBOUND built on:    \tMar 14 2020 16:43:01\n",
      "Number of particles: \t6\n",
      "Selected integrator: \tmercurius\n",
      "Simulation time:     \t1.0000000000000000e+05\n",
      "Current timestep:    \t0.100000\n",
      "---------------------------------\n",
      "<rebound.Particle object, m=1.0 x=-0.001962833101500212 y=0.007656781240012263 z=2.183275309101057e-05 vx=-0.0028796061033907056 vy=0.000237028114926568 vz=7.393244200386153e-05>\n",
      "<rebound.Particle object, m=0.0009547919152112404 x=-1.2585531676262454 y=-5.145873816680648 z=0.04714476975015494 vx=2.601659934084253 vy=-0.7180348559000759 vz=-0.05302404666678661>\n",
      "<rebound.Particle object, m=0.0002858856727222417 x=7.503547575836432 y=-6.713111210727221 z=-0.21818183049830997 vx=1.3539882201902362 vy=1.3654584970477095 vz=-0.0741682373727811>\n",
      "<rebound.Particle object, m=4.36624373583127e-05 x=12.224362025595719 y=15.216310406076719 z=-0.43947379221033056 vx=-1.0754830579656713 vy=0.912728070755838 vz=-0.005944009305805339>\n",
      "<rebound.Particle object, m=5.151383772628674e-05 x=9.42634687194281 y=-28.899834962062048 z=0.2856971809478693 vx=1.0761110626988117 vy=0.3558035649905616 vz=-0.035764071287153205>\n",
      "<rebound.Particle object, m=0.0 x=13.151375804165754 y=37.33342559530034 z=3.1900118843464944 vx=-0.9466743235755924 vy=0.4160647603519451 vz=-0.15314992829978558>\n",
      "---------------------------------\n",
      "Relative Energy Error (ΔE/E0): 3.059332736049801e-08\n",
      "\n"
     ]
    }
   ],
   "source": [
    "new_features=compute_from_jpl(objname='K13EF4J',savename='K13EF4J.follow') # Pass KBO identifier and epoch, run a simulation, and compute features"
   ]
  }
 ],
 "metadata": {
  "kernelspec": {
   "display_name": "Python 3",
   "language": "python",
   "name": "python3"
  },
  "language_info": {
   "codemirror_mode": {
    "name": "ipython",
    "version": 3
   },
   "file_extension": ".py",
   "mimetype": "text/x-python",
   "name": "python",
   "nbconvert_exporter": "python",
   "pygments_lexer": "ipython3",
   "version": "3.6.10"
  }
 },
 "nbformat": 4,
 "nbformat_minor": 2
}
